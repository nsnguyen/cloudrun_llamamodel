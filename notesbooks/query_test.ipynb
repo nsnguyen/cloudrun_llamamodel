{
 "cells": [
  {
   "cell_type": "code",
   "execution_count": 1,
   "metadata": {},
   "outputs": [],
   "source": [
    "import openai"
   ]
  },
  {
   "cell_type": "code",
   "execution_count": 2,
   "metadata": {},
   "outputs": [
    {
     "name": "stdout",
     "output_type": "stream",
     "text": [
      "\n",
      "Your prompt: Can you give me tips on how to cook steak?\n",
      "\n"
     ]
    }
   ],
   "source": [
    "openai.api_base = 'http://localhost:1234/v1'\n",
    "openai.api_key = ''\n",
    "\n",
    "prefix = \"### Instruction:\\n\"\n",
    "suffix = \"\\n### Response:\"\n",
    "\n",
    "def get_completion(prompt, model='local model', temperature=0.0):\n",
    "  formatted_prompt = f\"{prefix}{prompt}{suffix}\"\n",
    "  messages = [{\"role\": \"user\", \"content\": formatted_prompt}]\n",
    "  print(f'\\nYour prompt: {prompt}\\n')\n",
    "  response = openai.ChatCompletion.create(\n",
    "    model=model,\n",
    "    messages=messages,\n",
    "    temperature=temperature\n",
    "  )\n",
    "  return response.choices[0].message[\"content\"]\n",
    "\n",
    "prompt = \"Can you give me tips on how to cook steak?\"\n",
    "response = get_completion(prompt=prompt, temperature=0)"
   ]
  },
  {
   "cell_type": "code",
   "execution_count": 3,
   "metadata": {},
   "outputs": [
    {
     "name": "stdout",
     "output_type": "stream",
     "text": [
      "LLM's reseponse:   Of course! Here are some tips for cooking the perfect steak:\n",
      "\n",
      "1. Choose the right cut of meat: Different cuts of steak have different levels of marbling (fat content), which can affect the tenderness and flavor of the steak. Ribeye and strip loin are popular choices, but you can also consider other cuts like flank steak or skirt steak.\n",
      "2. Bring the steak to room temperature: Take the steak out of the refrigerator about 30 minutes before cooking to allow it to come to room temperature. This will help the steak cook more evenly and prevent it from cooking too quickly on the outside.\n",
      "3. Season the steak: Rub the steak with salt, pepper, and any other seasonings you like (such as garlic powder or paprika) before cooking. Let the steak sit at room temperature for a few minutes to allow the seasonings to penetrate the meat.\n",
      "4. Use a hot pan: Heat a skillet or grill pan over high heat until it's almost smoking. This will help create a nice crust on the steak and cook it quickly. If you're using a grill, preheat it to medium-high heat.\n",
      "5. Sear the steak: Place the steak in the hot pan or on the grill and sear it for 2-3 minutes per side, depending on the thickness of the steak. Use tongs or a spatula to flip the steak. Don't press down on the steak with your spatula, as this can squeeze out juices and make the steak tough.\n",
      "6. Finish cooking the steak: After searing the steak, move it to a cooler part of the grill or reduce the heat to medium-low in the skillet. Cook the steak until it reaches your desired level of doneness. Use a meat thermometer to check the internal temperature of the steak. For medium-rare, the temperature should be around 130-135°F (54-57°C), while medium should be around 140-145°F (60-63°C).\n",
      "7. Let the steak rest: Once the steak is cooked to your liking, remove it from the heat and let it rest for 5-10 minutes. This will allow the juices to redistribute throughout the steak, making it more tender and flavorful.\n",
      "8. Serve and enjoy: Slice the steak and serve it with your favorite sides, such as mashed potatoes, roasted vegetables, or a salad.\n",
      "\n",
      "Some additional tips to keep in mind:\n",
      "\n",
      "* Use a meat thermometer to ensure that your steak is cooked to a safe internal temperature.\n",
      "* Don't overcrowd the pan or grill, as this can cause the steaks to steam instead of sear, resulting in a less flavorful and tender final product.\n",
      "* Don't press down on the steak with your spatula, as this can cause the juices to be pushed out of the meat.\n",
      "* Let the steak rest for at least 5-10 minutes before slicing it, as this will help the juices redistribute and make the steak more tender.\n",
      "\n",
      "I hope these tips help you cook a delicious steak! Do you have any specific questions about cooking steak?\n"
     ]
    }
   ],
   "source": [
    "print(f\"LLM's reseponse: {response}\")"
   ]
  },
  {
   "cell_type": "code",
   "execution_count": null,
   "metadata": {},
   "outputs": [],
   "source": []
  }
 ],
 "metadata": {
  "kernelspec": {
   "display_name": "Python 3",
   "language": "python",
   "name": "python3"
  },
  "language_info": {
   "codemirror_mode": {
    "name": "ipython",
    "version": 3
   },
   "file_extension": ".py",
   "mimetype": "text/x-python",
   "name": "python",
   "nbconvert_exporter": "python",
   "pygments_lexer": "ipython3",
   "version": "3.11.4"
  }
 },
 "nbformat": 4,
 "nbformat_minor": 2
}
